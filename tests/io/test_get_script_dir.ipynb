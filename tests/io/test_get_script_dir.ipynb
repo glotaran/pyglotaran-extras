{
 "cells": [
  {
   "cell_type": "code",
   "execution_count": null,
   "id": "5b1cbf67-fd79-4229-aa88-a59a47394c83",
   "metadata": {},
   "outputs": [],
   "source": [
    "from pathlib import Path\n",
    "\n",
    "from pyglotaran_extras.io.setup_case_study import get_script_dir"
   ]
  },
  {
   "cell_type": "code",
   "execution_count": null,
   "id": "6a456242-4987-48aa-81e4-5687662195f8",
   "metadata": {},
   "outputs": [],
   "source": [
    "assert get_script_dir() == Path(\".\").resolve()"
   ]
  }
 ],
 "metadata": {
  "kernelspec": {
   "display_name": "Python 3",
   "language": "python",
   "name": "python3"
  },
  "language_info": {
   "codemirror_mode": {
    "name": "ipython",
    "version": 3
   },
   "file_extension": ".py",
   "mimetype": "text/x-python",
   "name": "python",
   "nbconvert_exporter": "python",
   "pygments_lexer": "ipython3",
   "version": "3.8.6"
  }
 },
 "nbformat": 4,
 "nbformat_minor": 5
}
